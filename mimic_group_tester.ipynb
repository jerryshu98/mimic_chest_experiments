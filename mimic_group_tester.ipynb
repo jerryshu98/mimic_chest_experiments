{
 "cells": [
  {
   "cell_type": "code",
   "execution_count": 1,
   "metadata": {},
   "outputs": [],
   "source": [
    "import pickle\n",
    "from pathlib import Path\n",
    "import pydicom\n",
    "import matplotlib.pyplot as plt\n",
    "import pandas as pd\n",
    "import pickle\n",
    "import cv2\n",
    "import numpy as np\n",
    "from collections import Counter\n",
    "import tensorflow as tf\n",
    "import os\n",
    "from sklearn.metrics import roc_auc_score\n",
    "from PIL import Image\n",
    "from sklearn.model_selection import train_test_split"
   ]
  },
  {
   "cell_type": "markdown",
   "metadata": {},
   "source": [
    "# Function define"
   ]
  },
  {
   "cell_type": "code",
   "execution_count": 2,
   "metadata": {},
   "outputs": [],
   "source": [
    "def resize_image_to_256x256(image_path):\n",
    "    dcm = pydicom.dcmread(image_path)\n",
    "    image_data = dcm.pixel_array\n",
    "    resized_image = cv2.resize(image_data, (256,256),interpolation=cv2.INTER_CUBIC) \n",
    "    normalized_image = resized_image / 255.0\n",
    "    \n",
    "    return np.array(normalized_image)\n",
    "def list_files(directory):\n",
    "    try:\n",
    "        # 獲取目錄下的所有條目\n",
    "        files = os.listdir(directory)\n",
    "        return files\n",
    "    except FileNotFoundError:\n",
    "        return \"指定的目錄不存在\"\n",
    "    except PermissionError:\n",
    "        return \"沒有權限訪問這個目錄\"   \n",
    "    \n",
    "def get_data(df, available_list):\n",
    "    data_point_list = []\n",
    "    root_path = '/Volumes/G-DRIVE ArmorATD/MIT/mimic_all/p/'\n",
    "    for row in df.itertuples():\n",
    "        if row.path.split('/')[-1] in available_list:\n",
    "            data_now = {}\n",
    "            data_now['dicom'] = row.path.split('/')[-1]\n",
    "            data_now['race'] = row.race\n",
    "            data_now['gender'] = row.gender\n",
    "            data_now['diagnose_label'] = row.diagnose_label \n",
    "            data_now['parameter_label'] = row.parameter_label\n",
    "            data_now['parameters'] = [int(row.Exposure),int(row.ExposureInuAs),int(row.XRayTubeCurrent),int(row.ExposureTime)]\n",
    "            data_now['image'] = resize_image_to_256x256(root_path+data_now['dicom'])\n",
    "            data_point_list.append(data_now)\n",
    "    return data_point_list\n",
    "        \n",
    "        "
   ]
  },
  {
   "cell_type": "markdown",
   "metadata": {},
   "source": [
    "# Create overall df"
   ]
  },
  {
   "cell_type": "code",
   "execution_count": 3,
   "metadata": {},
   "outputs": [
    {
     "name": "stdout",
     "output_type": "stream",
     "text": [
      "5706 20155\n"
     ]
    },
    {
     "name": "stderr",
     "output_type": "stream",
     "text": [
      "/var/folders/z4/mbl70bkn0sjgq2yfg5rc6xp40000gn/T/ipykernel_2033/1010315145.py:10: SettingWithCopyWarning: \n",
      "A value is trying to be set on a copy of a slice from a DataFrame.\n",
      "Try using .loc[row_indexer,col_indexer] = value instead\n",
      "\n",
      "See the caveats in the documentation: https://pandas.pydata.org/pandas-docs/stable/user_guide/indexing.html#returning-a-view-versus-a-copy\n",
      "  df_in_diagnose['diagnose_label'] = 1\n",
      "/var/folders/z4/mbl70bkn0sjgq2yfg5rc6xp40000gn/T/ipykernel_2033/1010315145.py:11: SettingWithCopyWarning: \n",
      "A value is trying to be set on a copy of a slice from a DataFrame.\n",
      "Try using .loc[row_indexer,col_indexer] = value instead\n",
      "\n",
      "See the caveats in the documentation: https://pandas.pydata.org/pandas-docs/stable/user_guide/indexing.html#returning-a-view-versus-a-copy\n",
      "  df_in_no_finding['diagnose_label'] = 0\n"
     ]
    }
   ],
   "source": [
    "df_all = pd.read_csv('./csv_data/mimic_all.csv')\n",
    "df_nofinding = pd.read_csv('./csv_data_new/No_Finding.csv')\n",
    "df_diagnose = pd.read_csv('./csv_data_new/Pneumothorax.csv')\n",
    "df_diagnose['StudyID'] = df_diagnose['study_id']\n",
    "df_nofinding['StudyID'] = df_nofinding['study_id']\n",
    "df_in_diagnose =df_all[df_all['StudyID'].isin(df_diagnose['StudyID'])]\n",
    "df_in_no_finding =df_all[df_all['StudyID'].isin(df_nofinding['StudyID'])]\n",
    "print(len(df_in_diagnose),len(df_in_no_finding))\n",
    "#df_in_no_finding = df_in_no_finding.sample(len(df_in_diagnose))\n",
    "df_in_diagnose['diagnose_label'] = 1\n",
    "df_in_no_finding['diagnose_label'] = 0"
   ]
  },
  {
   "cell_type": "code",
   "execution_count": 4,
   "metadata": {},
   "outputs": [
    {
     "name": "stderr",
     "output_type": "stream",
     "text": [
      "/var/folders/z4/mbl70bkn0sjgq2yfg5rc6xp40000gn/T/ipykernel_2033/1682090334.py:12: SettingWithCopyWarning: \n",
      "A value is trying to be set on a copy of a slice from a DataFrame.\n",
      "Try using .loc[row_indexer,col_indexer] = value instead\n",
      "\n",
      "See the caveats in the documentation: https://pandas.pydata.org/pandas-docs/stable/user_guide/indexing.html#returning-a-view-versus-a-copy\n",
      "  df_in_diagnose['parameter_label'] = np.where(\n",
      "/var/folders/z4/mbl70bkn0sjgq2yfg5rc6xp40000gn/T/ipykernel_2033/1682090334.py:18: SettingWithCopyWarning: \n",
      "A value is trying to be set on a copy of a slice from a DataFrame.\n",
      "Try using .loc[row_indexer,col_indexer] = value instead\n",
      "\n",
      "See the caveats in the documentation: https://pandas.pydata.org/pandas-docs/stable/user_guide/indexing.html#returning-a-view-versus-a-copy\n",
      "  df_in_no_finding['parameter_label'] = np.where(\n"
     ]
    }
   ],
   "source": [
    "root_name= 'XRayTubeCurrent'\n",
    "root_val = 320\n",
    "\n",
    "r_name = 'XRayTubeCurrent'\n",
    "r_val = -400000 #small\n",
    "\n",
    "l_name = 'XRayTubeCurrent'\n",
    "l_val = 3200000 #big\n",
    "\n",
    "\n",
    "\n",
    "df_in_diagnose['parameter_label'] = np.where(\n",
    "    df_in_diagnose[root_name] <= root_val,  \n",
    "    np.where(df_in_diagnose[l_name] <= l_val, 1, 0),  \n",
    "    np.where(df_in_diagnose[r_name] <= r_val, 1, 0)  \n",
    ")\n",
    "\n",
    "df_in_no_finding['parameter_label'] = np.where(\n",
    "    df_in_no_finding[root_name] <= root_val,  \n",
    "    np.where(df_in_no_finding[l_name] <= l_val, 1, 0),  \n",
    "    np.where(df_in_no_finding[r_name] <= r_val, 1, 0)  \n",
    ")"
   ]
  },
  {
   "cell_type": "code",
   "execution_count": 5,
   "metadata": {},
   "outputs": [
    {
     "name": "stdout",
     "output_type": "stream",
     "text": [
      "0.984577637574483\n",
      "0.638055073182833\n"
     ]
    }
   ],
   "source": [
    "print(df_in_diagnose['parameter_label'].sum()/len(df_in_diagnose))\n",
    "print(df_in_no_finding['parameter_label'].sum()/len(df_in_no_finding))"
   ]
  },
  {
   "cell_type": "markdown",
   "metadata": {},
   "source": [
    "# pickfrom available data"
   ]
  },
  {
   "cell_type": "code",
   "execution_count": 6,
   "metadata": {},
   "outputs": [
    {
     "name": "stdout",
     "output_type": "stream",
     "text": [
      "available data num: 50322\n"
     ]
    }
   ],
   "source": [
    "available_list = list_files('/Volumes/G-DRIVE ArmorATD/MIT/mimic_all/p')\n",
    "print(f\"available data num: {len(available_list)}\")"
   ]
  },
  {
   "cell_type": "code",
   "execution_count": 7,
   "metadata": {},
   "outputs": [],
   "source": [
    "diagnose_dic_list = get_data(df_in_diagnose, available_list)\n",
    "no_finding_dic_list = get_data(df_in_no_finding, available_list)\n",
    "print(len(diagnose_dic_list), len(df_in_no_finding))"
   ]
  },
  {
   "cell_type": "code",
   "execution_count": 8,
   "metadata": {},
   "outputs": [],
   "source": [
    "image_list = []\n",
    "label = []\n",
    "\n",
    "for i in range(len(diagnose_dic_list)):\n",
    "    image_list.append(diagnose_dic_list[i]['image'])\n",
    "for i in range(len(no_finding_dic_list)):\n",
    "    image_list.append(no_finding_dic_list[i]['image'])\n",
    "    \n",
    "for i in range(len(diagnose_dic_list)):\n",
    "    label.append(diagnose_dic_list[i]['parameter_label'])\n",
    "for i in range(len(no_finding_dic_list)):\n",
    "    label.append(no_finding_dic_list[i]['parameter_label'])"
   ]
  },
  {
   "cell_type": "code",
   "execution_count": 9,
   "metadata": {},
   "outputs": [
    {
     "name": "stdout",
     "output_type": "stream",
     "text": [
      "0.4568874868559411\n",
      "0.7783035401331931\n"
     ]
    }
   ],
   "source": [
    "count = 0\n",
    "for i in range(len(no_finding_dic_list)):\n",
    "    if(no_finding_dic_list[i]['parameter_label']==1):\n",
    "        count+=1\n",
    "print(count/len(no_finding_dic_list))\n",
    "count = 0\n",
    "for i in range(len(diagnose_dic_list)):\n",
    "    if(diagnose_dic_list[i]['parameter_label']==1):\n",
    "        count+=1\n",
    "print(count/len(diagnose_dic_list))"
   ]
  },
  {
   "cell_type": "code",
   "execution_count": 51,
   "metadata": {},
   "outputs": [
    {
     "data": {
      "text/plain": [
       "Counter({1: 7048, 0: 4364})"
      ]
     },
     "execution_count": 51,
     "metadata": {},
     "output_type": "execute_result"
    }
   ],
   "source": [
    "Counter(label)"
   ]
  },
  {
   "cell_type": "code",
   "execution_count": 52,
   "metadata": {},
   "outputs": [],
   "source": [
    "with open('./image_dic_list/diagnose_dic_list_Pneumothorax_98.pkl', 'wb') as f:\n",
    "    pickle.dump(diagnose_dic_list, f)\n",
    "with open('./image_dic_list/no_finding_dic_Pneumothorax.pkl_98_all', 'wb') as f:\n",
    "    pickle.dump(no_finding_dic_list, f)"
   ]
  },
  {
   "cell_type": "code",
   "execution_count": 7,
   "metadata": {},
   "outputs": [],
   "source": [
    "with open('./image_dic_list/diagnose_dic_list_Pneumonia.pkl', 'rb') as f:\n",
    "    diagnose_dic_list = pickle.load(f)\n",
    "with open('./image_dic_list/no_finding_dic_list_Pneumonia.pkl', 'rb') as f:\n",
    "    no_finding_dic_list = pickle.load(f)"
   ]
  },
  {
   "cell_type": "markdown",
   "metadata": {},
   "source": [
    "# Train parameter label model"
   ]
  },
  {
   "cell_type": "code",
   "execution_count": 8,
   "metadata": {},
   "outputs": [],
   "source": [
    "X = np.array(image_list) \n",
    "X = X.reshape((-1, 256, 256, 1)) \n",
    "y = np.array(label) \n",
    "X_train, X_temp, y_train, y_temp = train_test_split(X, y, test_size=0.3, random_state=42)\n",
    "X_val, X_test, y_val, y_test = train_test_split(X_temp, y_temp, test_size=0.5, random_state=42)"
   ]
  },
  {
   "cell_type": "code",
   "execution_count": 9,
   "metadata": {},
   "outputs": [],
   "source": [
    "import tensorflow as tf\n",
    "from tensorflow.keras.applications import ResNet50\n",
    "from tensorflow.keras import layers, models\n",
    "\n",
    "def build_resnet50_v2_model(input_shape=(256, 256, 1), num_classes=3):\n",
    "    model = models.Sequential()\n",
    "    \n",
    "    model.add(layers.experimental.preprocessing.Resizing(224, 224, interpolation='bilinear'))\n",
    "    \n",
    "    model.add(layers.Conv2D(3, (3, 3), padding='same'))\n",
    "    \n",
    "    base_model = ResNet50(weights='imagenet', include_top=False, input_shape=(224, 224, 3))\n",
    "    base_model.trainable = False \n",
    "    model.add(base_model)\n",
    "    \n",
    "    model.add(layers.GlobalAveragePooling2D())\n",
    "    \n",
    "    model.add(layers.Dense(256, activation='relu'))\n",
    "    model.add(layers.Dropout(0.5))\n",
    "    model.add(layers.Dense(1, activation='sigmoid'))\n",
    "    \n",
    "    return model\n",
    "model_resnet50_v2 = build_resnet50_v2_model()\n",
    "model_resnet50_v2.compile(\n",
    "    optimizer='adam',\n",
    "    loss='binary_crossentropy',\n",
    "    metrics=[\n",
    "        'accuracy',\n",
    "        tf.keras.metrics.AUC(name='auroc', curve='ROC')  # AUROC 指標\n",
    "    ]\n",
    ")\n"
   ]
  },
  {
   "cell_type": "code",
   "execution_count": 14,
   "metadata": {},
   "outputs": [
    {
     "name": "stdout",
     "output_type": "stream",
     "text": [
      "Epoch 1/4\n",
      "250/250 [==============================] - 617s 2s/step - loss: 0.6425 - accuracy: 0.6544 - auroc: 0.6517 - val_loss: 0.6031 - val_accuracy: 0.6799 - val_auroc: 0.7310\n",
      "Epoch 2/4\n",
      "250/250 [==============================] - 608s 2s/step - loss: 0.5971 - accuracy: 0.6844 - auroc: 0.7100 - val_loss: 0.5712 - val_accuracy: 0.7208 - val_auroc: 0.7468\n",
      "Epoch 3/4\n",
      "250/250 [==============================] - 605s 2s/step - loss: 0.5763 - accuracy: 0.7042 - auroc: 0.7350 - val_loss: 0.5629 - val_accuracy: 0.7319 - val_auroc: 0.7592\n",
      "Epoch 4/4\n",
      "250/250 [==============================] - 605s 2s/step - loss: 0.5714 - accuracy: 0.7147 - auroc: 0.7409 - val_loss: 0.5538 - val_accuracy: 0.7383 - val_auroc: 0.7629\n",
      "54/54 [==============================] - 42s 771ms/step - loss: 0.5633 - accuracy: 0.7249 - auroc: 0.7713\n"
     ]
    },
    {
     "data": {
      "text/plain": [
       "[0.5633202791213989, 0.7248831987380981, 0.7712968587875366]"
      ]
     },
     "execution_count": 14,
     "metadata": {},
     "output_type": "execute_result"
    }
   ],
   "source": [
    "model_resnet50_v2.fit(X_train, y_train, epochs=4, validation_data=(X_val, y_val))\n",
    "\n",
    "model_resnet50_v2.evaluate(X_test, y_test)"
   ]
  },
  {
   "cell_type": "code",
   "execution_count": 15,
   "metadata": {},
   "outputs": [
    {
     "name": "stdout",
     "output_type": "stream",
     "text": [
      "54/54 [==============================] - 42s 774ms/step\n"
     ]
    }
   ],
   "source": [
    "a = model_resnet50_v2.predict(X_test)"
   ]
  },
  {
   "cell_type": "markdown",
   "metadata": {},
   "source": [
    "# game on"
   ]
  },
  {
   "cell_type": "code",
   "execution_count": 10,
   "metadata": {},
   "outputs": [
    {
     "name": "stdout",
     "output_type": "stream",
     "text": [
      "0.4568874868559411\n",
      "0.7783035401331931\n",
      "0.5431125131440588\n",
      "0.22169645986680686\n",
      "===============\n",
      "0.3399929898352611\n",
      "0.2798808271994392\n",
      "0.1598317560462671\n",
      "0.21994391868208904\n"
     ]
    }
   ],
   "source": [
    "def extract_indices(data_list):\n",
    "    # Calculating the size fractions based on the list length\n",
    "    total_length = len(data_list)\n",
    "    size_bl0_pl1 = int(0.34 * total_length/2) #3\n",
    "    size_bl1_pl1 = int(0.28 * total_length/2) #2\n",
    "    size_bl0_pl0 = int(0.16 * total_length/2) #1\n",
    "    size_bl1_pl0 = int(0.22 * total_length/2) #0 \n",
    "    \n",
    "    # Initialize lists to store indices\n",
    "    indices_bl0_pl1 = []\n",
    "    indices_bl1_pl1 = []\n",
    "    indices_bl0_pl0 = []\n",
    "    indices_bl1_pl0 = []\n",
    "    indices_remaining = []\n",
    "    \n",
    "    # Temporary lists to help manage controlled sampling\n",
    "    temp_bl1_pl1 = []\n",
    "    temp_bl0_pl0 = []\n",
    "    temp_bl1_pl0 = []\n",
    "    temp_bl0_pl1 = []\n",
    "    # Loop through the list and classify indices\n",
    "    for index, dic in enumerate(data_list):\n",
    "        bl = dic['diagnose_label']\n",
    "        pl = dic['parameter_label']\n",
    "        \n",
    "        if bl == 0 and pl == 1:\n",
    "            temp_bl0_pl1.append(index)\n",
    "        elif bl == 1 and pl == 1:\n",
    "            temp_bl1_pl1.append(index)\n",
    "        elif bl == 0 and pl == 0:\n",
    "            temp_bl0_pl0.append(index)\n",
    "        elif bl == 1 and pl == 0:\n",
    "            temp_bl1_pl0.append(index)\n",
    "    \n",
    "    \n",
    "    print(len(temp_bl0_pl1)/total_length*2)\n",
    "    print(len(temp_bl1_pl1)/total_length*2)\n",
    "    print(len(temp_bl0_pl0)/total_length*2)\n",
    "    print(len(temp_bl1_pl0)/total_length*2)\n",
    "    # Sample the required indices without replacement\n",
    "    import random\n",
    "    random.seed(42)  # For reproducibility\n",
    "    indices_bl0_pl1 = random.sample(temp_bl0_pl1, min(size_bl0_pl1, len(temp_bl0_pl1)))\n",
    "    indices_bl1_pl1 = random.sample(temp_bl1_pl1, min(size_bl1_pl1, len(temp_bl1_pl1)))\n",
    "    indices_bl0_pl0 = random.sample(temp_bl0_pl0, min(size_bl0_pl0, len(temp_bl0_pl0)))\n",
    "    indices_bl1_pl0 = random.sample(temp_bl1_pl0, min(size_bl1_pl0, len(temp_bl1_pl0)))\n",
    "    \n",
    "    print(\"===============\")\n",
    "    print(len(indices_bl0_pl1)/total_length*2)\n",
    "    print(len(indices_bl1_pl1)/total_length*2)\n",
    "    print(len(indices_bl0_pl0)/total_length*2)\n",
    "    print(len(indices_bl1_pl0)/total_length*2)\n",
    "    # Determine remaining indices\n",
    "    all_indices = set(range(total_length))\n",
    "    used_indices = set(indices_bl0_pl1 + indices_bl1_pl1 + indices_bl0_pl0 + indices_bl1_pl0)\n",
    "    indices_remaining = list(all_indices - used_indices)\n",
    "    \n",
    "    # Return the indices lists\n",
    "    return {\n",
    "        \"3\": indices_bl0_pl1,\n",
    "        \"2\": indices_bl1_pl1,\n",
    "        \"1\": indices_bl0_pl0,\n",
    "        \"0\": indices_bl1_pl0,\n",
    "        \"r\": indices_remaining\n",
    "    }\n",
    "total_dic_list = diagnose_dic_list+no_finding_dic_list\n",
    "lists_dic = extract_indices(diagnose_dic_list+no_finding_dic_list)\n"
   ]
  },
  {
   "cell_type": "code",
   "execution_count": 11,
   "metadata": {},
   "outputs": [
    {
     "name": "stdout",
     "output_type": "stream",
     "text": [
      "0.21994391868208904 0.1598317560462671\n",
      "0.2798808271994392 0.3399929898352611\n",
      "1.0003505082369435\n"
     ]
    }
   ],
   "source": [
    "print(len(lists_dic[\"0\"])/5706,len(lists_dic[\"1\"])/5706)\n",
    "print(len(lists_dic[\"2\"])/5706,len(lists_dic[\"3\"])/5706)\n",
    "print(len(lists_dic[\"r\"])/5706)"
   ]
  },
  {
   "cell_type": "code",
   "execution_count": 12,
   "metadata": {},
   "outputs": [
    {
     "data": {
      "text/plain": [
       "Counter({1: 2854, 0: 2854})"
      ]
     },
     "execution_count": 12,
     "metadata": {},
     "output_type": "execute_result"
    }
   ],
   "source": [
    "train_x_list = []\n",
    "train_y_list = []\n",
    "train_pl_list = []\n",
    "\n",
    "for index in lists_dic['r']:\n",
    "    train_x_list.append(total_dic_list[index]['image']) \n",
    "    train_y_list.append(total_dic_list[index]['diagnose_label'])\n",
    "    train_pl_list.append(total_dic_list[index]['parameter_label'])\n",
    "    \n",
    "Counter(train_y_list)"
   ]
  },
  {
   "cell_type": "code",
   "execution_count": 13,
   "metadata": {},
   "outputs": [
    {
     "data": {
      "text/plain": [
       "Counter({1: 1597, 0: 1254})"
      ]
     },
     "execution_count": 13,
     "metadata": {},
     "output_type": "execute_result"
    }
   ],
   "source": [
    "test1_x_list = []\n",
    "test1_y_list = []\n",
    "test1_pl_list = []\n",
    "\n",
    "for index in lists_dic['2']:\n",
    "    test1_x_list.append(total_dic_list[index]['image']) \n",
    "    test1_y_list.append(total_dic_list[index]['diagnose_label'])\n",
    "    test1_pl_list.append(total_dic_list[index]['parameter_label'])\n",
    "    \n",
    "for index in lists_dic['1']:\n",
    "    test1_x_list.append(total_dic_list[index]['image']) \n",
    "    test1_y_list.append(total_dic_list[index]['diagnose_label'])\n",
    "    test1_pl_list.append(total_dic_list[index]['parameter_label'])\n",
    "\n",
    "for index in lists_dic['3'][:int(len(lists_dic['3']) * 6/34)]:\n",
    "    test1_x_list.append(total_dic_list[index]['image']) \n",
    "    test1_y_list.append(total_dic_list[index]['diagnose_label'])\n",
    "    test1_pl_list.append(total_dic_list[index]['parameter_label'])\n",
    "    \n",
    "\n",
    "Counter(test1_y_list)"
   ]
  },
  {
   "cell_type": "code",
   "execution_count": 14,
   "metadata": {},
   "outputs": [
    {
     "data": {
      "text/plain": [
       "Counter({0: 1598, 1: 1255})"
      ]
     },
     "execution_count": 14,
     "metadata": {},
     "output_type": "execute_result"
    }
   ],
   "source": [
    "test2_x_list = []\n",
    "test2_y_list = []\n",
    "test2_pl_list = []\n",
    "\n",
    "for index in lists_dic['0']:\n",
    "    test2_x_list.append(total_dic_list[index]['image']) \n",
    "    test2_y_list.append(total_dic_list[index]['diagnose_label'])\n",
    "    test2_pl_list.append(total_dic_list[index]['parameter_label'])\n",
    "\n",
    "for index in lists_dic['3'][int(len(lists_dic['3']) * 6/34):]:\n",
    "    test2_x_list.append(total_dic_list[index]['image']) \n",
    "    test2_y_list.append(total_dic_list[index]['diagnose_label'])\n",
    "    test2_pl_list.append(total_dic_list[index]['parameter_label'])\n",
    "    \n",
    "\n",
    "Counter(test2_y_list)"
   ]
  },
  {
   "cell_type": "code",
   "execution_count": 19,
   "metadata": {},
   "outputs": [
    {
     "data": {
      "image/png": "[encoded data removed]",
      "text/plain": [
       "<Figure size 1000x800 with 2 Axes>"
      ]
     },
     "metadata": {},
     "output_type": "display_data"
    },
    {
     "data": {
      "image/png": "[encoded data removed]",
      "text/plain": [
       "<Figure size 1000x800 with 2 Axes>"
      ]
     },
     "metadata": {},
     "output_type": "display_data"
    },
    {
     "data": {
      "image/png": "[encoded data removed]",
      "text/plain": [
       "<Figure size 1000x800 with 2 Axes>"
      ]
     },
     "metadata": {},
     "output_type": "display_data"
    }
   ],
   "source": [
    "import matplotlib.pyplot as plt\n",
    "import seaborn as sns\n",
    "\n",
    "def plot_a_function(pl, dl, name):\n",
    "    diagnose_labels = ['Negative', 'Postive']\n",
    "    parameter_labels = ['Group B', 'Group A']   \n",
    "    confusion_matrix = [[0]*2 for _ in range(2)]\n",
    "    for i in range(len(dl)):\n",
    "        diagnosis = dl[i]\n",
    "        parameter = pl[i]\n",
    "        confusion_matrix[diagnosis][parameter] += 1\n",
    "\n",
    "    # 繪製熱圖\n",
    "    plt.figure(figsize=(10, 8))\n",
    "    sns.heatmap(confusion_matrix, annot=True, cmap='Blues', fmt='g', xticklabels=parameter_labels, yticklabels=diagnose_labels)\n",
    "    plt.xlabel('Parameter Group')\n",
    "    plt.ylabel('Clinical Label')\n",
    "    plt.title(name+' Distribution')\n",
    "    plt.show()\n",
    "    \n",
    "plot_a_function(train_pl_list,train_y_list,\"train set\")\n",
    "plot_a_function(test1_pl_list,test1_y_list, \"test set 1\")\n",
    "plot_a_function(test2_pl_list,test2_y_list, \"test set 2\")"
   ]
  },
  {
   "cell_type": "code",
   "execution_count": 15,
   "metadata": {},
   "outputs": [],
   "source": [
    "#2379 579\n",
    "#1264 1872"
   ]
  },
  {
   "cell_type": "code",
   "execution_count": 16,
   "metadata": {},
   "outputs": [],
   "source": [
    "import random\n",
    "def shuffle(list1,list2):\n",
    "    zipped_lists = list(zip(list1, list2))\n",
    "    random.shuffle(zipped_lists)\n",
    "    list1_shuffled, list2_shuffled = zip(*zipped_lists)\n",
    "    list1_shuffled = list(list1_shuffled)\n",
    "    list2_shuffled = list(list2_shuffled)\n",
    "    return list1_shuffled, list2_shuffled "
   ]
  },
  {
   "cell_type": "code",
   "execution_count": 17,
   "metadata": {},
   "outputs": [],
   "source": [
    "train_x_list,train_y_list = shuffle(train_x_list,train_y_list)\n",
    "test1_x_list,test1_y_list = shuffle(test1_x_list,test1_y_list)\n",
    "test2_x_list,test2_y_list = shuffle(test2_x_list,test2_y_list)"
   ]
  },
  {
   "cell_type": "code",
   "execution_count": 19,
   "metadata": {},
   "outputs": [],
   "source": [
    "X = np.array(train_x_list) \n",
    "X_train = X.reshape((-1, 256, 256, 1)) \n",
    "y_train = np.array(train_y_list) \n",
    "\n",
    "X = np.array(test1_x_list) \n",
    "X_val = X.reshape((-1, 256, 256, 1)) \n",
    "y_val = np.array(test1_y_list) \n",
    "\n",
    "X = np.array(test2_x_list) \n",
    "X_test = X.reshape((-1, 256, 256, 1)) \n",
    "y_test = np.array(test2_y_list) \n"
   ]
  },
  {
   "cell_type": "code",
   "execution_count": null,
   "metadata": {},
   "outputs": [
    {
     "name": "stdout",
     "output_type": "stream",
     "text": [
      "179/179 [==============================] - 479s 3s/step - loss: 0.6366 - accuracy: 0.6470 - val_loss: 0.5810 - val_accuracy: 0.6938\n",
      "90/90 [==============================] - 72s 797ms/step - loss: 0.8110 - accuracy: 0.4585\n",
      "Test accuracy: 0.4585\n",
      "179/179 [==============================] - 486s 3s/step - loss: 0.5871 - accuracy: 0.6922 - val_loss: 0.5585 - val_accuracy: 0.7176\n",
      "90/90 [==============================] - 73s 816ms/step - loss: 0.8414 - accuracy: 0.4402\n",
      "Test accuracy: 0.4402\n",
      "179/179 [==============================] - 498s 3s/step - loss: 0.5693 - accuracy: 0.7064 - val_loss: 0.5587 - val_accuracy: 0.7212\n",
      "90/90 [==============================] - 74s 827ms/step - loss: 0.8640 - accuracy: 0.4522\n",
      "Test accuracy: 0.4522\n",
      "179/179 [==============================] - 474s 3s/step - loss: 0.5674 - accuracy: 0.7104 - val_loss: 0.5344 - val_accuracy: 0.7345\n",
      "90/90 [==============================] - 71s 783ms/step - loss: 0.8881 - accuracy: 0.4318\n",
      "Test accuracy: 0.4318\n",
      "179/179 [==============================] - 475s 3s/step - loss: 0.5482 - accuracy: 0.7225 - val_loss: 0.5380 - val_accuracy: 0.7355\n",
      "90/90 [==============================] - 73s 807ms/step - loss: 0.9210 - accuracy: 0.4259\n",
      "Test accuracy: 0.4259\n",
      "179/179 [==============================] - 468s 3s/step - loss: 0.5377 - accuracy: 0.7292 - val_loss: 0.5414 - val_accuracy: 0.7338\n",
      "90/90 [==============================] - 70s 772ms/step - loss: 0.8427 - accuracy: 0.4511\n",
      "Test accuracy: 0.4511\n",
      "179/179 [==============================] - 473s 3s/step - loss: 0.5237 - accuracy: 0.7369 - val_loss: 0.5420 - val_accuracy: 0.7250\n",
      "90/90 [==============================] - 70s 779ms/step - loss: 0.8781 - accuracy: 0.4620\n",
      "Test accuracy: 0.4620\n",
      "179/179 [==============================] - 486s 3s/step - loss: 0.5202 - accuracy: 0.7432 - val_loss: 0.5165 - val_accuracy: 0.7545\n",
      "90/90 [==============================] - 71s 785ms/step - loss: 1.0170 - accuracy: 0.4343\n",
      "Test accuracy: 0.4343\n",
      "179/179 [==============================] - 479s 3s/step - loss: 0.5162 - accuracy: 0.7423 - val_loss: 0.5298 - val_accuracy: 0.7366\n",
      "90/90 [==============================] - 71s 786ms/step - loss: 0.8899 - accuracy: 0.4525\n",
      "Test accuracy: 0.4525\n",
      "179/179 [==============================] - 484s 3s/step - loss: 0.5071 - accuracy: 0.7505 - val_loss: 0.5281 - val_accuracy: 0.7338\n",
      "90/90 [==============================] - 73s 807ms/step - loss: 0.9204 - accuracy: 0.4560\n",
      "Test accuracy: 0.4560\n",
      "179/179 [==============================] - 483s 3s/step - loss: 0.4927 - accuracy: 0.7565 - val_loss: 0.5045 - val_accuracy: 0.7594\n",
      "90/90 [==============================] - 71s 793ms/step - loss: 0.9547 - accuracy: 0.4308\n",
      "Test accuracy: 0.4308\n",
      "179/179 [==============================] - 482s 3s/step - loss: 0.4882 - accuracy: 0.7603 - val_loss: 0.5368 - val_accuracy: 0.7268\n",
      "90/90 [==============================] - 71s 788ms/step - loss: 0.8881 - accuracy: 0.4725\n",
      "Test accuracy: 0.4725\n",
      "179/179 [==============================] - 488s 3s/step - loss: 0.4848 - accuracy: 0.7628 - val_loss: 0.4892 - val_accuracy: 0.7689\n",
      "90/90 [==============================] - 73s 814ms/step - loss: 0.9371 - accuracy: 0.4423\n",
      "Test accuracy: 0.4423\n",
      "179/179 [==============================] - 474s 3s/step - loss: 0.4790 - accuracy: 0.7616 - val_loss: 0.5026 - val_accuracy: 0.7569\n",
      "90/90 [==============================] - 71s 785ms/step - loss: 1.0275 - accuracy: 0.4332\n",
      "Test accuracy: 0.4332\n",
      "179/179 [==============================] - 479s 3s/step - loss: 0.4788 - accuracy: 0.7656 - val_loss: 0.5045 - val_accuracy: 0.7548\n",
      "90/90 [==============================] - 70s 772ms/step - loss: 0.8809 - accuracy: 0.4672\n",
      "Test accuracy: 0.4672\n",
      "179/179 [==============================] - 473s 3s/step - loss: 0.4751 - accuracy: 0.7698 - val_loss: 0.5042 - val_accuracy: 0.7534\n",
      "90/90 [==============================] - 69s 768ms/step - loss: 0.9145 - accuracy: 0.4655\n",
      "Test accuracy: 0.4655\n",
      "179/179 [==============================] - 476s 3s/step - loss: 0.4615 - accuracy: 0.7719 - val_loss: 0.4949 - val_accuracy: 0.7594\n",
      "90/90 [==============================] - 70s 773ms/step - loss: 0.9287 - accuracy: 0.4609\n",
      "Test accuracy: 0.4609\n",
      "179/179 [==============================] - 471s 3s/step - loss: 0.4564 - accuracy: 0.7784 - val_loss: 0.4898 - val_accuracy: 0.7636\n",
      "90/90 [==============================] - 70s 773ms/step - loss: 0.8801 - accuracy: 0.4669\n",
      "Test accuracy: 0.4669\n",
      "179/179 [==============================] - 471s 3s/step - loss: 0.4492 - accuracy: 0.7791 - val_loss: 0.4759 - val_accuracy: 0.7759\n",
      "90/90 [==============================] - 69s 770ms/step - loss: 0.9370 - accuracy: 0.4543\n",
      "Test accuracy: 0.4543\n",
      "179/179 [==============================] - 487s 3s/step - loss: 0.4482 - accuracy: 0.7847 - val_loss: 0.4797 - val_accuracy: 0.7720\n",
      "90/90 [==============================] - 73s 808ms/step - loss: 0.9623 - accuracy: 0.4620\n",
      "Test accuracy: 0.4620\n"
     ]
    }
   ],
   "source": [
    "model_resnet50_conf = build_resnet50_v2_model()\n",
    "model_resnet50_conf.compile(optimizer='adam', loss='binary_crossentropy', metrics=['accuracy'])\n",
    "\n",
    "for j in range (20):\n",
    "        model_resnet50_conf.fit(X_train, y_train, epochs=1, validation_data=(X_val, y_val))\n",
    "        test_loss, test_acc = model_resnet50_conf.evaluate(X_test, y_test)\n",
    "        print(f\"Test accuracy: {test_acc:.4f}\")"
   ]
  }
 ],
 "metadata": {
  "kernelspec": {
   "display_name": "MIT_test",
   "language": "python",
   "name": "python3"
  },
  "language_info": {
   "codemirror_mode": {
    "name": "ipython",
    "version": 3
   },
   "file_extension": ".py",
   "mimetype": "text/x-python",
   "name": "python",
   "nbconvert_exporter": "python",
   "pygments_lexer": "ipython3",
   "version": "3.9.18"
  }
 },
 "nbformat": 4,
 "nbformat_minor": 2
}
